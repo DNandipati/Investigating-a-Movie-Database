{
 "cells": [
  {
   "cell_type": "markdown",
   "metadata": {},
   "source": [
    "# DAND Project 2: Investigating a movie database\n",
    "#### By: Deepak Nandipati\n",
    "\n",
    "## Table of Contents\n",
    "<ul>\n",
    "<li><a href=\"#intro\">Introduction</a></li>\n",
    "<li><a href=\"#wrangling\">Data Wrangling</a></li>\n",
    "<li><a href=\"#eda\">Exploratory Data Analysis</a></li>\n",
    "<li><a href=\"#conclusions\">Conclusions</a></li>\n",
    "</ul>"
   ]
  },
  {
   "cell_type": "markdown",
   "metadata": {},
   "source": [
    "<a id='intro'></a>\n",
    "## Introduction\n",
    "\n",
    "### Overview:\n",
    "> I will be analyzing the TDMB Database that was provided from Kaggle. This dataset contains more than 10,000 datapoints and it includes basic movie information such as user ratings, revenue, budget etc. \n",
    "\n",
    "### Questions I will be analyzing from this database:\n",
    ">#### 1. Has the budget been increasing with time? Plot the graph\n",
    ">#### 2. What are the most and least profitable movies? Formula of Profit = Revenue - Budget\n",
    ">#### 3. Have movies been getting popular with time? Plot the graph \n",
    ">#### 4. What are the top 10 budgeted movies? Plot the graph\n",
    ">#### 5. What are the most succesful genres in TMDB. Plot the graph.\n",
    ">#### 6. Identify the top 5 directors according to the popularity of the movies and how many movies have they made?"
   ]
  },
  {
   "cell_type": "markdown",
   "metadata": {},
   "source": [
    "### Importing Packages needed for Data Analysis"
   ]
  },
  {
   "cell_type": "code",
   "execution_count": 54,
   "metadata": {},
   "outputs": [],
   "source": [
    "import numpy as np\n",
    "import pandas as pd\n",
    "import matplotlib.pyplot as plt\n",
    "import seaborn as sns\n",
    "%matplotlib inline  "
   ]
  },
  {
   "cell_type": "markdown",
   "metadata": {},
   "source": [
    "<a id='wrangling'></a>\n",
    "## Data Wrangling\n"
   ]
  },
  {
   "cell_type": "markdown",
   "metadata": {},
   "source": [
    "#### Use pandas to read the CSV file given"
   ]
  },
  {
   "cell_type": "code",
   "execution_count": 55,
   "metadata": {},
   "outputs": [],
   "source": [
    "#importing the CSV file that was originally from Kaggle open projects\n",
    "df = pd.read_csv(\"tmdb-movies.csv\") "
   ]
  },
  {
   "cell_type": "code",
   "execution_count": 56,
   "metadata": {},
   "outputs": [
    {
     "data": {
      "text/html": [
       "<div>\n",
       "<style scoped>\n",
       "    .dataframe tbody tr th:only-of-type {\n",
       "        vertical-align: middle;\n",
       "    }\n",
       "\n",
       "    .dataframe tbody tr th {\n",
       "        vertical-align: top;\n",
       "    }\n",
       "\n",
       "    .dataframe thead th {\n",
       "        text-align: right;\n",
       "    }\n",
       "</style>\n",
       "<table border=\"1\" class=\"dataframe\">\n",
       "  <thead>\n",
       "    <tr style=\"text-align: right;\">\n",
       "      <th></th>\n",
       "      <th>id</th>\n",
       "      <th>imdb_id</th>\n",
       "      <th>popularity</th>\n",
       "      <th>budget</th>\n",
       "      <th>revenue</th>\n",
       "      <th>original_title</th>\n",
       "      <th>cast</th>\n",
       "      <th>homepage</th>\n",
       "      <th>director</th>\n",
       "      <th>tagline</th>\n",
       "      <th>...</th>\n",
       "      <th>overview</th>\n",
       "      <th>runtime</th>\n",
       "      <th>genres</th>\n",
       "      <th>production_companies</th>\n",
       "      <th>release_date</th>\n",
       "      <th>vote_count</th>\n",
       "      <th>vote_average</th>\n",
       "      <th>release_year</th>\n",
       "      <th>budget_adj</th>\n",
       "      <th>revenue_adj</th>\n",
       "    </tr>\n",
       "  </thead>\n",
       "  <tbody>\n",
       "    <tr>\n",
       "      <th>0</th>\n",
       "      <td>135397</td>\n",
       "      <td>tt0369610</td>\n",
       "      <td>32.985763</td>\n",
       "      <td>150000000</td>\n",
       "      <td>1513528810</td>\n",
       "      <td>Jurassic World</td>\n",
       "      <td>Chris Pratt|Bryce Dallas Howard|Irrfan Khan|Vi...</td>\n",
       "      <td>http://www.jurassicworld.com/</td>\n",
       "      <td>Colin Trevorrow</td>\n",
       "      <td>The park is open.</td>\n",
       "      <td>...</td>\n",
       "      <td>Twenty-two years after the events of Jurassic ...</td>\n",
       "      <td>124</td>\n",
       "      <td>Action|Adventure|Science Fiction|Thriller</td>\n",
       "      <td>Universal Studios|Amblin Entertainment|Legenda...</td>\n",
       "      <td>6/9/15</td>\n",
       "      <td>5562</td>\n",
       "      <td>6.5</td>\n",
       "      <td>2015</td>\n",
       "      <td>1.379999e+08</td>\n",
       "      <td>1.392446e+09</td>\n",
       "    </tr>\n",
       "  </tbody>\n",
       "</table>\n",
       "<p>1 rows × 21 columns</p>\n",
       "</div>"
      ],
      "text/plain": [
       "       id    imdb_id  popularity     budget     revenue  original_title  \\\n",
       "0  135397  tt0369610   32.985763  150000000  1513528810  Jurassic World   \n",
       "\n",
       "                                                cast  \\\n",
       "0  Chris Pratt|Bryce Dallas Howard|Irrfan Khan|Vi...   \n",
       "\n",
       "                        homepage         director            tagline  \\\n",
       "0  http://www.jurassicworld.com/  Colin Trevorrow  The park is open.   \n",
       "\n",
       "       ...                                                overview runtime  \\\n",
       "0      ...       Twenty-two years after the events of Jurassic ...     124   \n",
       "\n",
       "                                      genres  \\\n",
       "0  Action|Adventure|Science Fiction|Thriller   \n",
       "\n",
       "                                production_companies release_date vote_count  \\\n",
       "0  Universal Studios|Amblin Entertainment|Legenda...       6/9/15       5562   \n",
       "\n",
       "   vote_average  release_year    budget_adj   revenue_adj  \n",
       "0           6.5          2015  1.379999e+08  1.392446e+09  \n",
       "\n",
       "[1 rows x 21 columns]"
      ]
     },
     "execution_count": 56,
     "metadata": {},
     "output_type": "execute_result"
    }
   ],
   "source": [
    "df.head(1) #observing the initial data"
   ]
  },
  {
   "cell_type": "code",
   "execution_count": 57,
   "metadata": {},
   "outputs": [
    {
     "data": {
      "text/plain": [
       "(10866, 21)"
      ]
     },
     "execution_count": 57,
     "metadata": {},
     "output_type": "execute_result"
    }
   ],
   "source": [
    "df.shape #determining how big the data is"
   ]
  },
  {
   "cell_type": "markdown",
   "metadata": {},
   "source": [
    "## Data Cleaning Steps:"
   ]
  },
  {
   "cell_type": "markdown",
   "metadata": {},
   "source": [
    "### 1. Delete Duplicate columns to avoid any repetition of data and for more accurate statistics\n",
    "### 2. Delete unwanted columns, and keep only columns that are useful in answering research questions. This way the data can be easily read and understood.\n",
    "### 3. Replace the zeroes of column 'budget' and 'revenue' with null values\n",
    "### 4. Fill null values where needed for remaining data or Drop the null values if present in small numbers"
   ]
  },
  {
   "cell_type": "code",
   "execution_count": 58,
   "metadata": {
    "scrolled": true
   },
   "outputs": [
    {
     "name": "stdout",
     "output_type": "stream",
     "text": [
      "<class 'pandas.core.frame.DataFrame'>\n",
      "RangeIndex: 10866 entries, 0 to 10865\n",
      "Data columns (total 21 columns):\n",
      "id                      10866 non-null int64\n",
      "imdb_id                 10856 non-null object\n",
      "popularity              10866 non-null float64\n",
      "budget                  10866 non-null int64\n",
      "revenue                 10866 non-null int64\n",
      "original_title          10866 non-null object\n",
      "cast                    10790 non-null object\n",
      "homepage                2936 non-null object\n",
      "director                10822 non-null object\n",
      "tagline                 8042 non-null object\n",
      "keywords                9373 non-null object\n",
      "overview                10862 non-null object\n",
      "runtime                 10866 non-null int64\n",
      "genres                  10843 non-null object\n",
      "production_companies    9836 non-null object\n",
      "release_date            10866 non-null object\n",
      "vote_count              10866 non-null int64\n",
      "vote_average            10866 non-null float64\n",
      "release_year            10866 non-null int64\n",
      "budget_adj              10866 non-null float64\n",
      "revenue_adj             10866 non-null float64\n",
      "dtypes: float64(4), int64(6), object(11)\n",
      "memory usage: 1.7+ MB\n"
     ]
    }
   ],
   "source": [
    "df.info(); #looking for null columns and data types"
   ]
  },
  {
   "cell_type": "markdown",
   "metadata": {},
   "source": [
    "---"
   ]
  },
  {
   "cell_type": "markdown",
   "metadata": {},
   "source": [
    "#### 1. Deleting duplicate columns"
   ]
  },
  {
   "cell_type": "code",
   "execution_count": 59,
   "metadata": {
    "scrolled": false
   },
   "outputs": [],
   "source": [
    "df.drop_duplicates(inplace=True) #remember to always use (inplace=True) as this will secure the changes "
   ]
  },
  {
   "cell_type": "code",
   "execution_count": 60,
   "metadata": {},
   "outputs": [
    {
     "data": {
      "text/plain": [
       "(10865, 21)"
      ]
     },
     "execution_count": 60,
     "metadata": {},
     "output_type": "execute_result"
    }
   ],
   "source": [
    "df.shape #indicates that 1 duplicate row has been deleted 10866 to 10865 now"
   ]
  },
  {
   "cell_type": "markdown",
   "metadata": {},
   "source": [
    "#### 2. Deleting unnecessary columns"
   ]
  },
  {
   "cell_type": "code",
   "execution_count": 61,
   "metadata": {},
   "outputs": [],
   "source": [
    "#dropping unecessary columns as originally this dataset has 21 columns; cleaning data for easier and better access\n",
    "to_drop = ['cast', 'homepage', 'tagline', 'keywords', 'overview', 'production_companies', 'vote_average', 'budget_adj', 'revenue_adj']\n",
    "df.drop(to_drop, axis=1, inplace=True)"
   ]
  },
  {
   "cell_type": "code",
   "execution_count": 62,
   "metadata": {
    "scrolled": false
   },
   "outputs": [
    {
     "data": {
      "text/html": [
       "<div>\n",
       "<style scoped>\n",
       "    .dataframe tbody tr th:only-of-type {\n",
       "        vertical-align: middle;\n",
       "    }\n",
       "\n",
       "    .dataframe tbody tr th {\n",
       "        vertical-align: top;\n",
       "    }\n",
       "\n",
       "    .dataframe thead th {\n",
       "        text-align: right;\n",
       "    }\n",
       "</style>\n",
       "<table border=\"1\" class=\"dataframe\">\n",
       "  <thead>\n",
       "    <tr style=\"text-align: right;\">\n",
       "      <th></th>\n",
       "      <th>id</th>\n",
       "      <th>imdb_id</th>\n",
       "      <th>popularity</th>\n",
       "      <th>budget</th>\n",
       "      <th>revenue</th>\n",
       "      <th>original_title</th>\n",
       "      <th>director</th>\n",
       "      <th>runtime</th>\n",
       "      <th>genres</th>\n",
       "      <th>release_date</th>\n",
       "      <th>vote_count</th>\n",
       "      <th>release_year</th>\n",
       "    </tr>\n",
       "  </thead>\n",
       "  <tbody>\n",
       "    <tr>\n",
       "      <th>0</th>\n",
       "      <td>135397</td>\n",
       "      <td>tt0369610</td>\n",
       "      <td>32.985763</td>\n",
       "      <td>150000000</td>\n",
       "      <td>1513528810</td>\n",
       "      <td>Jurassic World</td>\n",
       "      <td>Colin Trevorrow</td>\n",
       "      <td>124</td>\n",
       "      <td>Action|Adventure|Science Fiction|Thriller</td>\n",
       "      <td>6/9/15</td>\n",
       "      <td>5562</td>\n",
       "      <td>2015</td>\n",
       "    </tr>\n",
       "  </tbody>\n",
       "</table>\n",
       "</div>"
      ],
      "text/plain": [
       "       id    imdb_id  popularity     budget     revenue  original_title  \\\n",
       "0  135397  tt0369610   32.985763  150000000  1513528810  Jurassic World   \n",
       "\n",
       "          director  runtime                                     genres  \\\n",
       "0  Colin Trevorrow      124  Action|Adventure|Science Fiction|Thriller   \n",
       "\n",
       "  release_date  vote_count  release_year  \n",
       "0       6/9/15        5562          2015  "
      ]
     },
     "execution_count": 62,
     "metadata": {},
     "output_type": "execute_result"
    }
   ],
   "source": [
    "df.head(1) #verifiying if the columns have been dropped"
   ]
  },
  {
   "cell_type": "markdown",
   "metadata": {},
   "source": [
    "#### 3. Replacing zeroes with null values"
   ]
  },
  {
   "cell_type": "code",
   "execution_count": 63,
   "metadata": {
    "scrolled": true
   },
   "outputs": [],
   "source": [
    "#The code below shows us how many zeroes we are working with in this dataset. \n",
    "df_budget = df['budget'] == 0\n",
    "df_revenue = df['revenue'] == 0"
   ]
  },
  {
   "cell_type": "code",
   "execution_count": 64,
   "metadata": {},
   "outputs": [
    {
     "data": {
      "text/plain": [
       "(5696, 6016)"
      ]
     },
     "execution_count": 64,
     "metadata": {},
     "output_type": "execute_result"
    }
   ],
   "source": [
    "# There are a lot of zeroes in our dataset for budget and revenue, and this shows us that the value is merely missing\n",
    "# rather than it actually be zeroing. For the sake of data accuracy, we must keep these and replace them with null values\n",
    "# as Zero values can distort the values\n",
    "\n",
    "df_budget.sum(), df_revenue.sum() "
   ]
  },
  {
   "cell_type": "code",
   "execution_count": 65,
   "metadata": {},
   "outputs": [
    {
     "data": {
      "text/plain": [
       "0"
      ]
     },
     "execution_count": 65,
     "metadata": {},
     "output_type": "execute_result"
    }
   ],
   "source": [
    "df['budget'] = df['budget'].replace(0, np.NAN)\n",
    "(df['budget'] == 0).sum() #this verifies that the zeroes are not in the columns anymore"
   ]
  },
  {
   "cell_type": "code",
   "execution_count": 66,
   "metadata": {},
   "outputs": [
    {
     "data": {
      "text/plain": [
       "0"
      ]
     },
     "execution_count": 66,
     "metadata": {},
     "output_type": "execute_result"
    }
   ],
   "source": [
    "df['revenue'] = df['revenue'].replace(0, np.NAN)\n",
    "(df['revenue'] == 0).sum() #this verifies that the zeroes are not in the columns anymore"
   ]
  },
  {
   "cell_type": "code",
   "execution_count": 67,
   "metadata": {},
   "outputs": [
    {
     "data": {
      "text/plain": [
       "5169"
      ]
     },
     "execution_count": 67,
     "metadata": {},
     "output_type": "execute_result"
    }
   ],
   "source": [
    "df['budget'].count()"
   ]
  },
  {
   "cell_type": "markdown",
   "metadata": {},
   "source": [
    "#### 4. Fill or Drop null values "
   ]
  },
  {
   "cell_type": "code",
   "execution_count": 68,
   "metadata": {
    "scrolled": true
   },
   "outputs": [
    {
     "data": {
      "text/plain": [
       "id                   0\n",
       "imdb_id             10\n",
       "popularity           0\n",
       "budget            5696\n",
       "revenue           6016\n",
       "original_title       0\n",
       "director            44\n",
       "runtime              0\n",
       "genres              23\n",
       "release_date         0\n",
       "vote_count           0\n",
       "release_year         0\n",
       "dtype: int64"
      ]
     },
     "execution_count": 68,
     "metadata": {},
     "output_type": "execute_result"
    }
   ],
   "source": [
    "df.isnull().sum()\n",
    "#displays all the null values present in Data; Budget and Revenue have already been taken care of\n",
    "#Remaining is imdb_id, director, genres"
   ]
  },
  {
   "cell_type": "markdown",
   "metadata": {},
   "source": [
    "##### &nbsp;&nbsp;&nbsp; Assessing 'imdb_id'"
   ]
  },
  {
   "cell_type": "code",
   "execution_count": 69,
   "metadata": {},
   "outputs": [
    {
     "data": {
      "text/html": [
       "<div>\n",
       "<style scoped>\n",
       "    .dataframe tbody tr th:only-of-type {\n",
       "        vertical-align: middle;\n",
       "    }\n",
       "\n",
       "    .dataframe tbody tr th {\n",
       "        vertical-align: top;\n",
       "    }\n",
       "\n",
       "    .dataframe thead th {\n",
       "        text-align: right;\n",
       "    }\n",
       "</style>\n",
       "<table border=\"1\" class=\"dataframe\">\n",
       "  <thead>\n",
       "    <tr style=\"text-align: right;\">\n",
       "      <th></th>\n",
       "      <th>id</th>\n",
       "      <th>imdb_id</th>\n",
       "      <th>popularity</th>\n",
       "      <th>budget</th>\n",
       "      <th>revenue</th>\n",
       "      <th>original_title</th>\n",
       "      <th>director</th>\n",
       "      <th>runtime</th>\n",
       "      <th>genres</th>\n",
       "      <th>release_date</th>\n",
       "      <th>vote_count</th>\n",
       "      <th>release_year</th>\n",
       "    </tr>\n",
       "  </thead>\n",
       "  <tbody>\n",
       "    <tr>\n",
       "      <th>548</th>\n",
       "      <td>355131</td>\n",
       "      <td>NaN</td>\n",
       "      <td>0.108072</td>\n",
       "      <td>NaN</td>\n",
       "      <td>NaN</td>\n",
       "      <td>Sense8: Creating the World</td>\n",
       "      <td>NaN</td>\n",
       "      <td>25</td>\n",
       "      <td>Documentary|Science Fiction</td>\n",
       "      <td>8/10/15</td>\n",
       "      <td>12</td>\n",
       "      <td>2015</td>\n",
       "    </tr>\n",
       "    <tr>\n",
       "      <th>997</th>\n",
       "      <td>287663</td>\n",
       "      <td>NaN</td>\n",
       "      <td>0.330431</td>\n",
       "      <td>NaN</td>\n",
       "      <td>NaN</td>\n",
       "      <td>Star Wars Rebels: Spark of Rebellion</td>\n",
       "      <td>Steward Lee|Steven G. Lee</td>\n",
       "      <td>44</td>\n",
       "      <td>NaN</td>\n",
       "      <td>10/3/14</td>\n",
       "      <td>13</td>\n",
       "      <td>2014</td>\n",
       "    </tr>\n",
       "    <tr>\n",
       "      <th>1528</th>\n",
       "      <td>15257</td>\n",
       "      <td>NaN</td>\n",
       "      <td>0.607851</td>\n",
       "      <td>NaN</td>\n",
       "      <td>NaN</td>\n",
       "      <td>Hulk vs. Wolverine</td>\n",
       "      <td>Frank Paur</td>\n",
       "      <td>38</td>\n",
       "      <td>Animation|Action|Science Fiction</td>\n",
       "      <td>1/27/09</td>\n",
       "      <td>38</td>\n",
       "      <td>2009</td>\n",
       "    </tr>\n",
       "    <tr>\n",
       "      <th>1750</th>\n",
       "      <td>101907</td>\n",
       "      <td>NaN</td>\n",
       "      <td>0.256975</td>\n",
       "      <td>NaN</td>\n",
       "      <td>NaN</td>\n",
       "      <td>Hulk vs. Thor</td>\n",
       "      <td>Sam Liu</td>\n",
       "      <td>41</td>\n",
       "      <td>Action|Animation|Fantasy|Science Fiction</td>\n",
       "      <td>1/27/09</td>\n",
       "      <td>38</td>\n",
       "      <td>2009</td>\n",
       "    </tr>\n",
       "    <tr>\n",
       "      <th>2401</th>\n",
       "      <td>45644</td>\n",
       "      <td>NaN</td>\n",
       "      <td>0.067753</td>\n",
       "      <td>NaN</td>\n",
       "      <td>NaN</td>\n",
       "      <td>Opeth: In Live Concert At The Royal Albert Hall</td>\n",
       "      <td>NaN</td>\n",
       "      <td>163</td>\n",
       "      <td>Music</td>\n",
       "      <td>9/21/10</td>\n",
       "      <td>10</td>\n",
       "      <td>2010</td>\n",
       "    </tr>\n",
       "  </tbody>\n",
       "</table>\n",
       "</div>"
      ],
      "text/plain": [
       "          id imdb_id  popularity  budget  revenue  \\\n",
       "548   355131     NaN    0.108072     NaN      NaN   \n",
       "997   287663     NaN    0.330431     NaN      NaN   \n",
       "1528   15257     NaN    0.607851     NaN      NaN   \n",
       "1750  101907     NaN    0.256975     NaN      NaN   \n",
       "2401   45644     NaN    0.067753     NaN      NaN   \n",
       "\n",
       "                                       original_title  \\\n",
       "548                        Sense8: Creating the World   \n",
       "997              Star Wars Rebels: Spark of Rebellion   \n",
       "1528                               Hulk vs. Wolverine   \n",
       "1750                                    Hulk vs. Thor   \n",
       "2401  Opeth: In Live Concert At The Royal Albert Hall   \n",
       "\n",
       "                       director  runtime  \\\n",
       "548                         NaN       25   \n",
       "997   Steward Lee|Steven G. Lee       44   \n",
       "1528                 Frank Paur       38   \n",
       "1750                    Sam Liu       41   \n",
       "2401                        NaN      163   \n",
       "\n",
       "                                        genres release_date  vote_count  \\\n",
       "548                Documentary|Science Fiction      8/10/15          12   \n",
       "997                                        NaN      10/3/14          13   \n",
       "1528          Animation|Action|Science Fiction      1/27/09          38   \n",
       "1750  Action|Animation|Fantasy|Science Fiction      1/27/09          38   \n",
       "2401                                     Music      9/21/10          10   \n",
       "\n",
       "      release_year  \n",
       "548           2015  \n",
       "997           2014  \n",
       "1528          2009  \n",
       "1750          2009  \n",
       "2401          2010  "
      ]
     },
     "execution_count": 69,
     "metadata": {},
     "output_type": "execute_result"
    }
   ],
   "source": [
    "df[df['imdb_id'].isnull()].head(5)\n",
    "#from this dataset we can see that the budget, revenue, and most of directors are also missing values. It would be\n",
    "#wiser to drop this dataset rather."
   ]
  },
  {
   "cell_type": "markdown",
   "metadata": {},
   "source": [
    "##### &nbsp;&nbsp;&nbsp; Assessing 'director'"
   ]
  },
  {
   "cell_type": "code",
   "execution_count": 70,
   "metadata": {},
   "outputs": [
    {
     "data": {
      "text/html": [
       "<div>\n",
       "<style scoped>\n",
       "    .dataframe tbody tr th:only-of-type {\n",
       "        vertical-align: middle;\n",
       "    }\n",
       "\n",
       "    .dataframe tbody tr th {\n",
       "        vertical-align: top;\n",
       "    }\n",
       "\n",
       "    .dataframe thead th {\n",
       "        text-align: right;\n",
       "    }\n",
       "</style>\n",
       "<table border=\"1\" class=\"dataframe\">\n",
       "  <thead>\n",
       "    <tr style=\"text-align: right;\">\n",
       "      <th></th>\n",
       "      <th>id</th>\n",
       "      <th>imdb_id</th>\n",
       "      <th>popularity</th>\n",
       "      <th>budget</th>\n",
       "      <th>revenue</th>\n",
       "      <th>original_title</th>\n",
       "      <th>director</th>\n",
       "      <th>runtime</th>\n",
       "      <th>genres</th>\n",
       "      <th>release_date</th>\n",
       "      <th>vote_count</th>\n",
       "      <th>release_year</th>\n",
       "    </tr>\n",
       "  </thead>\n",
       "  <tbody>\n",
       "    <tr>\n",
       "      <th>532</th>\n",
       "      <td>320996</td>\n",
       "      <td>tt4073952</td>\n",
       "      <td>0.126594</td>\n",
       "      <td>NaN</td>\n",
       "      <td>NaN</td>\n",
       "      <td>Iliza Shlesinger: Freezing Hot</td>\n",
       "      <td>NaN</td>\n",
       "      <td>71</td>\n",
       "      <td>Comedy</td>\n",
       "      <td>1/23/15</td>\n",
       "      <td>14</td>\n",
       "      <td>2015</td>\n",
       "    </tr>\n",
       "    <tr>\n",
       "      <th>548</th>\n",
       "      <td>355131</td>\n",
       "      <td>NaN</td>\n",
       "      <td>0.108072</td>\n",
       "      <td>NaN</td>\n",
       "      <td>NaN</td>\n",
       "      <td>Sense8: Creating the World</td>\n",
       "      <td>NaN</td>\n",
       "      <td>25</td>\n",
       "      <td>Documentary|Science Fiction</td>\n",
       "      <td>8/10/15</td>\n",
       "      <td>12</td>\n",
       "      <td>2015</td>\n",
       "    </tr>\n",
       "    <tr>\n",
       "      <th>556</th>\n",
       "      <td>321160</td>\n",
       "      <td>tt3908634</td>\n",
       "      <td>0.100910</td>\n",
       "      <td>NaN</td>\n",
       "      <td>NaN</td>\n",
       "      <td>With This Ring</td>\n",
       "      <td>NaN</td>\n",
       "      <td>105</td>\n",
       "      <td>Comedy|Romance</td>\n",
       "      <td>1/24/15</td>\n",
       "      <td>14</td>\n",
       "      <td>2015</td>\n",
       "    </tr>\n",
       "    <tr>\n",
       "      <th>1032</th>\n",
       "      <td>259910</td>\n",
       "      <td>tt3591568</td>\n",
       "      <td>0.291253</td>\n",
       "      <td>NaN</td>\n",
       "      <td>NaN</td>\n",
       "      <td>Marvel Studios: Assembling a Universe</td>\n",
       "      <td>NaN</td>\n",
       "      <td>43</td>\n",
       "      <td>TV Movie|Documentary</td>\n",
       "      <td>3/18/14</td>\n",
       "      <td>32</td>\n",
       "      <td>2014</td>\n",
       "    </tr>\n",
       "    <tr>\n",
       "      <th>1054</th>\n",
       "      <td>253675</td>\n",
       "      <td>tt3711030</td>\n",
       "      <td>0.269468</td>\n",
       "      <td>NaN</td>\n",
       "      <td>NaN</td>\n",
       "      <td>Unlocking Sherlock</td>\n",
       "      <td>NaN</td>\n",
       "      <td>60</td>\n",
       "      <td>TV Movie|Documentary</td>\n",
       "      <td>1/19/14</td>\n",
       "      <td>11</td>\n",
       "      <td>2014</td>\n",
       "    </tr>\n",
       "  </tbody>\n",
       "</table>\n",
       "</div>"
      ],
      "text/plain": [
       "          id    imdb_id  popularity  budget  revenue  \\\n",
       "532   320996  tt4073952    0.126594     NaN      NaN   \n",
       "548   355131        NaN    0.108072     NaN      NaN   \n",
       "556   321160  tt3908634    0.100910     NaN      NaN   \n",
       "1032  259910  tt3591568    0.291253     NaN      NaN   \n",
       "1054  253675  tt3711030    0.269468     NaN      NaN   \n",
       "\n",
       "                             original_title director  runtime  \\\n",
       "532          Iliza Shlesinger: Freezing Hot      NaN       71   \n",
       "548              Sense8: Creating the World      NaN       25   \n",
       "556                          With This Ring      NaN      105   \n",
       "1032  Marvel Studios: Assembling a Universe      NaN       43   \n",
       "1054                     Unlocking Sherlock      NaN       60   \n",
       "\n",
       "                           genres release_date  vote_count  release_year  \n",
       "532                        Comedy      1/23/15          14          2015  \n",
       "548   Documentary|Science Fiction      8/10/15          12          2015  \n",
       "556                Comedy|Romance      1/24/15          14          2015  \n",
       "1032         TV Movie|Documentary      3/18/14          32          2014  \n",
       "1054         TV Movie|Documentary      1/19/14          11          2014  "
      ]
     },
     "execution_count": 70,
     "metadata": {},
     "output_type": "execute_result"
    }
   ],
   "source": [
    "df[df['director'].isnull()].head(5)\n",
    "#from this dataset we can see that the budget, revenue are also missing values. It would be\n",
    "#wiser to drop this dataset rather."
   ]
  },
  {
   "cell_type": "markdown",
   "metadata": {},
   "source": [
    "##### &nbsp;&nbsp;&nbsp; Assessing 'genres'"
   ]
  },
  {
   "cell_type": "code",
   "execution_count": 71,
   "metadata": {},
   "outputs": [
    {
     "data": {
      "text/html": [
       "<div>\n",
       "<style scoped>\n",
       "    .dataframe tbody tr th:only-of-type {\n",
       "        vertical-align: middle;\n",
       "    }\n",
       "\n",
       "    .dataframe tbody tr th {\n",
       "        vertical-align: top;\n",
       "    }\n",
       "\n",
       "    .dataframe thead th {\n",
       "        text-align: right;\n",
       "    }\n",
       "</style>\n",
       "<table border=\"1\" class=\"dataframe\">\n",
       "  <thead>\n",
       "    <tr style=\"text-align: right;\">\n",
       "      <th></th>\n",
       "      <th>id</th>\n",
       "      <th>imdb_id</th>\n",
       "      <th>popularity</th>\n",
       "      <th>budget</th>\n",
       "      <th>revenue</th>\n",
       "      <th>original_title</th>\n",
       "      <th>director</th>\n",
       "      <th>runtime</th>\n",
       "      <th>genres</th>\n",
       "      <th>release_date</th>\n",
       "      <th>vote_count</th>\n",
       "      <th>release_year</th>\n",
       "    </tr>\n",
       "  </thead>\n",
       "  <tbody>\n",
       "    <tr>\n",
       "      <th>424</th>\n",
       "      <td>363869</td>\n",
       "      <td>tt4835298</td>\n",
       "      <td>0.244648</td>\n",
       "      <td>NaN</td>\n",
       "      <td>NaN</td>\n",
       "      <td>Belli di papÃ</td>\n",
       "      <td>Guido Chiesa</td>\n",
       "      <td>100</td>\n",
       "      <td>NaN</td>\n",
       "      <td>10/29/15</td>\n",
       "      <td>21</td>\n",
       "      <td>2015</td>\n",
       "    </tr>\n",
       "    <tr>\n",
       "      <th>620</th>\n",
       "      <td>361043</td>\n",
       "      <td>tt5022680</td>\n",
       "      <td>0.129696</td>\n",
       "      <td>NaN</td>\n",
       "      <td>NaN</td>\n",
       "      <td>All Hallows' Eve 2</td>\n",
       "      <td>Antonio Padovan|Bryan Norton|Marc Roussel|Ryan...</td>\n",
       "      <td>90</td>\n",
       "      <td>NaN</td>\n",
       "      <td>10/6/15</td>\n",
       "      <td>13</td>\n",
       "      <td>2015</td>\n",
       "    </tr>\n",
       "    <tr>\n",
       "      <th>997</th>\n",
       "      <td>287663</td>\n",
       "      <td>NaN</td>\n",
       "      <td>0.330431</td>\n",
       "      <td>NaN</td>\n",
       "      <td>NaN</td>\n",
       "      <td>Star Wars Rebels: Spark of Rebellion</td>\n",
       "      <td>Steward Lee|Steven G. Lee</td>\n",
       "      <td>44</td>\n",
       "      <td>NaN</td>\n",
       "      <td>10/3/14</td>\n",
       "      <td>13</td>\n",
       "      <td>2014</td>\n",
       "    </tr>\n",
       "    <tr>\n",
       "      <th>1712</th>\n",
       "      <td>21634</td>\n",
       "      <td>tt1073510</td>\n",
       "      <td>0.302095</td>\n",
       "      <td>NaN</td>\n",
       "      <td>NaN</td>\n",
       "      <td>Prayers for Bobby</td>\n",
       "      <td>Russell Mulcahy</td>\n",
       "      <td>88</td>\n",
       "      <td>NaN</td>\n",
       "      <td>2/27/09</td>\n",
       "      <td>57</td>\n",
       "      <td>2009</td>\n",
       "    </tr>\n",
       "    <tr>\n",
       "      <th>1897</th>\n",
       "      <td>40534</td>\n",
       "      <td>tt1229827</td>\n",
       "      <td>0.020701</td>\n",
       "      <td>NaN</td>\n",
       "      <td>NaN</td>\n",
       "      <td>Jonas Brothers: The Concert Experience</td>\n",
       "      <td>Bruce Hendricks</td>\n",
       "      <td>76</td>\n",
       "      <td>NaN</td>\n",
       "      <td>2/27/09</td>\n",
       "      <td>11</td>\n",
       "      <td>2009</td>\n",
       "    </tr>\n",
       "  </tbody>\n",
       "</table>\n",
       "</div>"
      ],
      "text/plain": [
       "          id    imdb_id  popularity  budget  revenue  \\\n",
       "424   363869  tt4835298    0.244648     NaN      NaN   \n",
       "620   361043  tt5022680    0.129696     NaN      NaN   \n",
       "997   287663        NaN    0.330431     NaN      NaN   \n",
       "1712   21634  tt1073510    0.302095     NaN      NaN   \n",
       "1897   40534  tt1229827    0.020701     NaN      NaN   \n",
       "\n",
       "                              original_title  \\\n",
       "424                           Belli di papÃ    \n",
       "620                       All Hallows' Eve 2   \n",
       "997     Star Wars Rebels: Spark of Rebellion   \n",
       "1712                       Prayers for Bobby   \n",
       "1897  Jonas Brothers: The Concert Experience   \n",
       "\n",
       "                                               director  runtime genres  \\\n",
       "424                                        Guido Chiesa      100    NaN   \n",
       "620   Antonio Padovan|Bryan Norton|Marc Roussel|Ryan...       90    NaN   \n",
       "997                           Steward Lee|Steven G. Lee       44    NaN   \n",
       "1712                                    Russell Mulcahy       88    NaN   \n",
       "1897                                    Bruce Hendricks       76    NaN   \n",
       "\n",
       "     release_date  vote_count  release_year  \n",
       "424      10/29/15          21          2015  \n",
       "620       10/6/15          13          2015  \n",
       "997       10/3/14          13          2014  \n",
       "1712      2/27/09          57          2009  \n",
       "1897      2/27/09          11          2009  "
      ]
     },
     "execution_count": 71,
     "metadata": {},
     "output_type": "execute_result"
    }
   ],
   "source": [
    "df[df['genres'].isnull()].head(5)\n",
    "#from this dataset we can see that the budget, revenue are also missing values. It would be\n",
    "#wiser to drop this dataset rather.\n"
   ]
  },
  {
   "cell_type": "code",
   "execution_count": 72,
   "metadata": {},
   "outputs": [],
   "source": [
    "col_todrop=['genres','director', 'imdb_id']\n",
    "df.dropna(subset = col_todrop, inplace = True)"
   ]
  },
  {
   "cell_type": "code",
   "execution_count": 73,
   "metadata": {
    "scrolled": true
   },
   "outputs": [
    {
     "data": {
      "text/plain": [
       "id                   0\n",
       "imdb_id              0\n",
       "popularity           0\n",
       "budget            5632\n",
       "revenue           5947\n",
       "original_title       0\n",
       "director             0\n",
       "runtime              0\n",
       "genres               0\n",
       "release_date         0\n",
       "vote_count           0\n",
       "release_year         0\n",
       "dtype: int64"
      ]
     },
     "execution_count": 73,
     "metadata": {},
     "output_type": "execute_result"
    }
   ],
   "source": [
    "df.isnull().sum() #verifying if null values are dropped"
   ]
  },
  {
   "cell_type": "markdown",
   "metadata": {},
   "source": [
    "### Final evaluation of Data before analysis"
   ]
  },
  {
   "cell_type": "code",
   "execution_count": 74,
   "metadata": {
    "scrolled": true
   },
   "outputs": [
    {
     "name": "stdout",
     "output_type": "stream",
     "text": [
      "<class 'pandas.core.frame.DataFrame'>\n",
      "Int64Index: 10795 entries, 0 to 10865\n",
      "Data columns (total 12 columns):\n",
      "id                10795 non-null int64\n",
      "imdb_id           10795 non-null object\n",
      "popularity        10795 non-null float64\n",
      "budget            5163 non-null float64\n",
      "revenue           4848 non-null float64\n",
      "original_title    10795 non-null object\n",
      "director          10795 non-null object\n",
      "runtime           10795 non-null int64\n",
      "genres            10795 non-null object\n",
      "release_date      10795 non-null object\n",
      "vote_count        10795 non-null int64\n",
      "release_year      10795 non-null int64\n",
      "dtypes: float64(3), int64(4), object(5)\n",
      "memory usage: 1.1+ MB\n"
     ]
    }
   ],
   "source": [
    "df.info()"
   ]
  },
  {
   "cell_type": "code",
   "execution_count": 75,
   "metadata": {},
   "outputs": [
    {
     "data": {
      "text/html": [
       "<div>\n",
       "<style scoped>\n",
       "    .dataframe tbody tr th:only-of-type {\n",
       "        vertical-align: middle;\n",
       "    }\n",
       "\n",
       "    .dataframe tbody tr th {\n",
       "        vertical-align: top;\n",
       "    }\n",
       "\n",
       "    .dataframe thead th {\n",
       "        text-align: right;\n",
       "    }\n",
       "</style>\n",
       "<table border=\"1\" class=\"dataframe\">\n",
       "  <thead>\n",
       "    <tr style=\"text-align: right;\">\n",
       "      <th></th>\n",
       "      <th>id</th>\n",
       "      <th>popularity</th>\n",
       "      <th>budget</th>\n",
       "      <th>revenue</th>\n",
       "      <th>runtime</th>\n",
       "      <th>vote_count</th>\n",
       "      <th>release_year</th>\n",
       "    </tr>\n",
       "  </thead>\n",
       "  <tbody>\n",
       "    <tr>\n",
       "      <th>count</th>\n",
       "      <td>10795.000000</td>\n",
       "      <td>10795.000000</td>\n",
       "      <td>5.163000e+03</td>\n",
       "      <td>4.848000e+03</td>\n",
       "      <td>10795.000000</td>\n",
       "      <td>10795.000000</td>\n",
       "      <td>10795.000000</td>\n",
       "    </tr>\n",
       "    <tr>\n",
       "      <th>mean</th>\n",
       "      <td>65560.482446</td>\n",
       "      <td>0.649617</td>\n",
       "      <td>3.077286e+07</td>\n",
       "      <td>8.925500e+07</td>\n",
       "      <td>102.214266</td>\n",
       "      <td>218.691709</td>\n",
       "      <td>2001.285966</td>\n",
       "    </tr>\n",
       "    <tr>\n",
       "      <th>std</th>\n",
       "      <td>91751.943252</td>\n",
       "      <td>1.002631</td>\n",
       "      <td>3.891469e+07</td>\n",
       "      <td>1.620930e+08</td>\n",
       "      <td>30.764036</td>\n",
       "      <td>577.283167</td>\n",
       "      <td>12.821353</td>\n",
       "    </tr>\n",
       "    <tr>\n",
       "      <th>min</th>\n",
       "      <td>5.000000</td>\n",
       "      <td>0.000188</td>\n",
       "      <td>1.000000e+00</td>\n",
       "      <td>2.000000e+00</td>\n",
       "      <td>0.000000</td>\n",
       "      <td>10.000000</td>\n",
       "      <td>1960.000000</td>\n",
       "    </tr>\n",
       "    <tr>\n",
       "      <th>25%</th>\n",
       "      <td>10568.000000</td>\n",
       "      <td>0.209190</td>\n",
       "      <td>6.000000e+06</td>\n",
       "      <td>7.724244e+06</td>\n",
       "      <td>90.000000</td>\n",
       "      <td>17.000000</td>\n",
       "      <td>1995.000000</td>\n",
       "    </tr>\n",
       "    <tr>\n",
       "      <th>50%</th>\n",
       "      <td>20453.000000</td>\n",
       "      <td>0.385492</td>\n",
       "      <td>1.700000e+07</td>\n",
       "      <td>3.187604e+07</td>\n",
       "      <td>99.000000</td>\n",
       "      <td>39.000000</td>\n",
       "      <td>2006.000000</td>\n",
       "    </tr>\n",
       "    <tr>\n",
       "      <th>75%</th>\n",
       "      <td>74684.000000</td>\n",
       "      <td>0.717850</td>\n",
       "      <td>4.000000e+07</td>\n",
       "      <td>9.997431e+07</td>\n",
       "      <td>112.000000</td>\n",
       "      <td>147.000000</td>\n",
       "      <td>2011.000000</td>\n",
       "    </tr>\n",
       "    <tr>\n",
       "      <th>max</th>\n",
       "      <td>417859.000000</td>\n",
       "      <td>32.985763</td>\n",
       "      <td>4.250000e+08</td>\n",
       "      <td>2.781506e+09</td>\n",
       "      <td>900.000000</td>\n",
       "      <td>9767.000000</td>\n",
       "      <td>2015.000000</td>\n",
       "    </tr>\n",
       "  </tbody>\n",
       "</table>\n",
       "</div>"
      ],
      "text/plain": [
       "                  id    popularity        budget       revenue       runtime  \\\n",
       "count   10795.000000  10795.000000  5.163000e+03  4.848000e+03  10795.000000   \n",
       "mean    65560.482446      0.649617  3.077286e+07  8.925500e+07    102.214266   \n",
       "std     91751.943252      1.002631  3.891469e+07  1.620930e+08     30.764036   \n",
       "min         5.000000      0.000188  1.000000e+00  2.000000e+00      0.000000   \n",
       "25%     10568.000000      0.209190  6.000000e+06  7.724244e+06     90.000000   \n",
       "50%     20453.000000      0.385492  1.700000e+07  3.187604e+07     99.000000   \n",
       "75%     74684.000000      0.717850  4.000000e+07  9.997431e+07    112.000000   \n",
       "max    417859.000000     32.985763  4.250000e+08  2.781506e+09    900.000000   \n",
       "\n",
       "         vote_count  release_year  \n",
       "count  10795.000000  10795.000000  \n",
       "mean     218.691709   2001.285966  \n",
       "std      577.283167     12.821353  \n",
       "min       10.000000   1960.000000  \n",
       "25%       17.000000   1995.000000  \n",
       "50%       39.000000   2006.000000  \n",
       "75%      147.000000   2011.000000  \n",
       "max     9767.000000   2015.000000  "
      ]
     },
     "execution_count": 75,
     "metadata": {},
     "output_type": "execute_result"
    }
   ],
   "source": [
    "df.describe()"
   ]
  },
  {
   "cell_type": "code",
   "execution_count": 76,
   "metadata": {},
   "outputs": [
    {
     "data": {
      "text/plain": [
       "([32.985763, 28.419936, 24.949134, 14.311205, 13.112507],\n",
       " [0.001117, 0.001115, 0.000973, 0.00062, 0.000188])"
      ]
     },
     "execution_count": 76,
     "metadata": {},
     "output_type": "execute_result"
    }
   ],
   "source": [
    "test = sorted(df['popularity'], reverse=True)\n",
    "test[:5], test[-5:]"
   ]
  },
  {
   "cell_type": "markdown",
   "metadata": {},
   "source": [
    "##### Observances from general statistics:\n",
    "-  Popularity column looks to have an outlier as the mean of data is only 0.64 but upon further investigation, it shows that the number is more of a cumulative concept. For that reason, it is best to leave the original data.\n",
    "-  Runtime appears to be 0, which is a problem as movies need to be greater than 0; we need to drop the zero values \n",
    "   or fill them with appropriate data\n",
    "-  the remaining data seems to be fine for further analysis"
   ]
  },
  {
   "cell_type": "markdown",
   "metadata": {},
   "source": [
    "##### Replace the zero values of 'runtime'  with mean runtime value"
   ]
  },
  {
   "cell_type": "code",
   "execution_count": 77,
   "metadata": {},
   "outputs": [
    {
     "data": {
      "text/plain": [
       "28"
      ]
     },
     "execution_count": 77,
     "metadata": {},
     "output_type": "execute_result"
    }
   ],
   "source": [
    "df_revenue = df['runtime'] == 0  #we only have 28 values that constitute to zero runtime, we can remove these values\n",
    "df_revenue.sum() "
   ]
  },
  {
   "cell_type": "code",
   "execution_count": 78,
   "metadata": {},
   "outputs": [],
   "source": [
    "df.query('runtime != 0', inplace = True) #dropping non-zero columns"
   ]
  },
  {
   "cell_type": "code",
   "execution_count": 79,
   "metadata": {
    "scrolled": false
   },
   "outputs": [
    {
     "data": {
      "text/html": [
       "<div>\n",
       "<style scoped>\n",
       "    .dataframe tbody tr th:only-of-type {\n",
       "        vertical-align: middle;\n",
       "    }\n",
       "\n",
       "    .dataframe tbody tr th {\n",
       "        vertical-align: top;\n",
       "    }\n",
       "\n",
       "    .dataframe thead th {\n",
       "        text-align: right;\n",
       "    }\n",
       "</style>\n",
       "<table border=\"1\" class=\"dataframe\">\n",
       "  <thead>\n",
       "    <tr style=\"text-align: right;\">\n",
       "      <th></th>\n",
       "      <th>id</th>\n",
       "      <th>popularity</th>\n",
       "      <th>budget</th>\n",
       "      <th>revenue</th>\n",
       "      <th>runtime</th>\n",
       "      <th>vote_count</th>\n",
       "      <th>release_year</th>\n",
       "    </tr>\n",
       "  </thead>\n",
       "  <tbody>\n",
       "    <tr>\n",
       "      <th>count</th>\n",
       "      <td>10767.000000</td>\n",
       "      <td>10767.000000</td>\n",
       "      <td>5.160000e+03</td>\n",
       "      <td>4.848000e+03</td>\n",
       "      <td>10767.000000</td>\n",
       "      <td>10767.000000</td>\n",
       "      <td>10767.000000</td>\n",
       "    </tr>\n",
       "    <tr>\n",
       "      <th>mean</th>\n",
       "      <td>65266.425745</td>\n",
       "      <td>0.650805</td>\n",
       "      <td>3.078857e+07</td>\n",
       "      <td>8.925500e+07</td>\n",
       "      <td>102.480078</td>\n",
       "      <td>219.205907</td>\n",
       "      <td>2001.261911</td>\n",
       "    </tr>\n",
       "    <tr>\n",
       "      <th>std</th>\n",
       "      <td>91448.107023</td>\n",
       "      <td>1.003509</td>\n",
       "      <td>3.892052e+07</td>\n",
       "      <td>1.620930e+08</td>\n",
       "      <td>30.358597</td>\n",
       "      <td>577.944627</td>\n",
       "      <td>12.827140</td>\n",
       "    </tr>\n",
       "    <tr>\n",
       "      <th>min</th>\n",
       "      <td>5.000000</td>\n",
       "      <td>0.000188</td>\n",
       "      <td>1.000000e+00</td>\n",
       "      <td>2.000000e+00</td>\n",
       "      <td>2.000000</td>\n",
       "      <td>10.000000</td>\n",
       "      <td>1960.000000</td>\n",
       "    </tr>\n",
       "    <tr>\n",
       "      <th>25%</th>\n",
       "      <td>10556.000000</td>\n",
       "      <td>0.210087</td>\n",
       "      <td>6.000000e+06</td>\n",
       "      <td>7.724244e+06</td>\n",
       "      <td>90.000000</td>\n",
       "      <td>17.000000</td>\n",
       "      <td>1995.000000</td>\n",
       "    </tr>\n",
       "    <tr>\n",
       "      <th>50%</th>\n",
       "      <td>20391.000000</td>\n",
       "      <td>0.386180</td>\n",
       "      <td>1.700000e+07</td>\n",
       "      <td>3.187604e+07</td>\n",
       "      <td>99.000000</td>\n",
       "      <td>39.000000</td>\n",
       "      <td>2006.000000</td>\n",
       "    </tr>\n",
       "    <tr>\n",
       "      <th>75%</th>\n",
       "      <td>74424.000000</td>\n",
       "      <td>0.719086</td>\n",
       "      <td>4.000000e+07</td>\n",
       "      <td>9.997431e+07</td>\n",
       "      <td>112.000000</td>\n",
       "      <td>147.500000</td>\n",
       "      <td>2011.000000</td>\n",
       "    </tr>\n",
       "    <tr>\n",
       "      <th>max</th>\n",
       "      <td>417859.000000</td>\n",
       "      <td>32.985763</td>\n",
       "      <td>4.250000e+08</td>\n",
       "      <td>2.781506e+09</td>\n",
       "      <td>900.000000</td>\n",
       "      <td>9767.000000</td>\n",
       "      <td>2015.000000</td>\n",
       "    </tr>\n",
       "  </tbody>\n",
       "</table>\n",
       "</div>"
      ],
      "text/plain": [
       "                  id    popularity        budget       revenue       runtime  \\\n",
       "count   10767.000000  10767.000000  5.160000e+03  4.848000e+03  10767.000000   \n",
       "mean    65266.425745      0.650805  3.078857e+07  8.925500e+07    102.480078   \n",
       "std     91448.107023      1.003509  3.892052e+07  1.620930e+08     30.358597   \n",
       "min         5.000000      0.000188  1.000000e+00  2.000000e+00      2.000000   \n",
       "25%     10556.000000      0.210087  6.000000e+06  7.724244e+06     90.000000   \n",
       "50%     20391.000000      0.386180  1.700000e+07  3.187604e+07     99.000000   \n",
       "75%     74424.000000      0.719086  4.000000e+07  9.997431e+07    112.000000   \n",
       "max    417859.000000     32.985763  4.250000e+08  2.781506e+09    900.000000   \n",
       "\n",
       "         vote_count  release_year  \n",
       "count  10767.000000  10767.000000  \n",
       "mean     219.205907   2001.261911  \n",
       "std      577.944627     12.827140  \n",
       "min       10.000000   1960.000000  \n",
       "25%       17.000000   1995.000000  \n",
       "50%       39.000000   2006.000000  \n",
       "75%      147.500000   2011.000000  \n",
       "max     9767.000000   2015.000000  "
      ]
     },
     "execution_count": 79,
     "metadata": {},
     "output_type": "execute_result"
    }
   ],
   "source": [
    "df.describe() #problems have been rectified"
   ]
  },
  {
   "cell_type": "code",
   "execution_count": 80,
   "metadata": {},
   "outputs": [
    {
     "data": {
      "image/png": "[encoded data removed]",
      "text/plain": [
       "<Figure size 1080x720 with 9 Axes>"
      ]
     },
     "metadata": {
      "needs_background": "light"
     },
     "output_type": "display_data"
    }
   ],
   "source": [
    "df.hist(figsize=(15,10)); \n",
    "#observing the data for any outliers or data that needs to be cleaned further; we can make assumptions about our data \n",
    "#even prior to making changes"
   ]
  },
  {
   "cell_type": "markdown",
   "metadata": {},
   "source": [
    "## Data Extraction and Analysis\n",
    "\n",
    "## Questions I will be analyzing from this database:\n",
    ">### 1. Has the budget been increasing with time? Plot the graph\n",
    ">### 2. What are the most and least profitable movies? Formula of Profit = Revenue - Budget\n",
    ">### 3. Have movies been getting popular with time? Plot the graph \n",
    ">### 4. What are the top 10 budgeted movies? Plot the graph\n",
    ">### 5. What are the most succesful genres in TMDB. Plot the graph.\n",
    ">### 6. Identify the top 5 directors according to the popularity of the movies and how many movies have they made?"
   ]
  },
  {
   "cell_type": "markdown",
   "metadata": {},
   "source": [
    "---"
   ]
  },
  {
   "cell_type": "markdown",
   "metadata": {},
   "source": [
    "### Question 1. Has the budget been increasing with time? Plot the graph\n",
    "### we use the groupby function to group the release years and find the mean budget for each year. With that data, we can then graph the values and observe the trend"
   ]
  },
  {
   "cell_type": "code",
   "execution_count": 81,
   "metadata": {
    "scrolled": true
   },
   "outputs": [
    {
     "data": {
      "text/plain": [
       "(release_year\n",
       " 1960    2.450772e+06\n",
       " 1961    3.549000e+06\n",
       " 1962    3.908723e+06\n",
       " Name: budget, dtype: float64, release_year\n",
       " 2013    3.418903e+07\n",
       " 2014    3.384868e+07\n",
       " 2015    3.617404e+07\n",
       " Name: budget, dtype: float64)"
      ]
     },
     "execution_count": 81,
     "metadata": {},
     "output_type": "execute_result"
    }
   ],
   "source": [
    "#Question 1. Has the budget been increasing with time? Plot the graph\n",
    "\n",
    "budget_year = df.groupby('release_year').mean()['budget']\n",
    "budget_year[:3],budget_year[-3:] #displaying the first 3 and last 3 mean values of budget according to year; "
   ]
  },
  {
   "cell_type": "code",
   "execution_count": 82,
   "metadata": {},
   "outputs": [
    {
     "data": {
      "image/png": "[encoded data removed]",
      "text/plain": [
       "<Figure size 648x432 with 1 Axes>"
      ]
     },
     "metadata": {
      "needs_background": "light"
     },
     "output_type": "display_data"
    }
   ],
   "source": [
    "#plotting according to the new variable created above, the label states that budget is in American dollars\n",
    "plt.figure(figsize=(9, 6))\n",
    "plt.plot(budget_year, color = 'r', label = 'Budget')\n",
    "\n",
    "#used xticks here to create intervals of 30 years at a time\n",
    "plt.xticks(np.arange(min(df['release_year']), max(df['release_year'])+5, 5.0))\n",
    "\n",
    "#displaying labels appropriately\n",
    "plt.title('Movie budget over the years')\n",
    "plt.xlabel('Year')\n",
    "plt.ylabel('USD to power of 7')\n",
    "#set legend located to right\n",
    "plt.legend(loc='right');"
   ]
  },
  {
   "cell_type": "markdown",
   "metadata": {},
   "source": [
    "### Plot indicates that the budget has been increasing drastically over the years. It shows that there was a drastic increase in budgets of the movies from the 1995 period. Within the span of 1995 to 2000 it has shown to increase almost double. The pattern of budget increases seems to hit almost a plateau after the 2000s with minimal changes in budget averages per year. Further information is needed to accurately predict any surges in future budgets."
   ]
  },
  {
   "cell_type": "markdown",
   "metadata": {},
   "source": [
    "---"
   ]
  },
  {
   "cell_type": "markdown",
   "metadata": {},
   "source": [
    "### Question 2. What are the most and least profitable movies? Formula of Profit = Revenue - Budget\n",
    "### we need to first create a column for profit and then create a def function highlighting lowest and most profit based on year; this function can be re-used for other variables also"
   ]
  },
  {
   "cell_type": "code",
   "execution_count": 83,
   "metadata": {},
   "outputs": [],
   "source": [
    "#lets first start by creating profit column so it can be easily accessible and displayed for further calculations\n",
    "df['profit'] = df['revenue'] - df['budget']"
   ]
  },
  {
   "cell_type": "code",
   "execution_count": 84,
   "metadata": {
    "scrolled": true
   },
   "outputs": [
    {
     "data": {
      "text/html": [
       "<div>\n",
       "<style scoped>\n",
       "    .dataframe tbody tr th:only-of-type {\n",
       "        vertical-align: middle;\n",
       "    }\n",
       "\n",
       "    .dataframe tbody tr th {\n",
       "        vertical-align: top;\n",
       "    }\n",
       "\n",
       "    .dataframe thead th {\n",
       "        text-align: right;\n",
       "    }\n",
       "</style>\n",
       "<table border=\"1\" class=\"dataframe\">\n",
       "  <thead>\n",
       "    <tr style=\"text-align: right;\">\n",
       "      <th></th>\n",
       "      <th>2244</th>\n",
       "      <th>1386</th>\n",
       "    </tr>\n",
       "  </thead>\n",
       "  <tbody>\n",
       "    <tr>\n",
       "      <th>id</th>\n",
       "      <td>46528</td>\n",
       "      <td>19995</td>\n",
       "    </tr>\n",
       "    <tr>\n",
       "      <th>imdb_id</th>\n",
       "      <td>tt1032751</td>\n",
       "      <td>tt0499549</td>\n",
       "    </tr>\n",
       "    <tr>\n",
       "      <th>popularity</th>\n",
       "      <td>0.25054</td>\n",
       "      <td>9.43277</td>\n",
       "    </tr>\n",
       "    <tr>\n",
       "      <th>budget</th>\n",
       "      <td>4.25e+08</td>\n",
       "      <td>2.37e+08</td>\n",
       "    </tr>\n",
       "    <tr>\n",
       "      <th>revenue</th>\n",
       "      <td>1.10876e+07</td>\n",
       "      <td>2.78151e+09</td>\n",
       "    </tr>\n",
       "    <tr>\n",
       "      <th>original_title</th>\n",
       "      <td>The Warrior's Way</td>\n",
       "      <td>Avatar</td>\n",
       "    </tr>\n",
       "    <tr>\n",
       "      <th>director</th>\n",
       "      <td>Sngmoo Lee</td>\n",
       "      <td>James Cameron</td>\n",
       "    </tr>\n",
       "    <tr>\n",
       "      <th>runtime</th>\n",
       "      <td>100</td>\n",
       "      <td>162</td>\n",
       "    </tr>\n",
       "    <tr>\n",
       "      <th>genres</th>\n",
       "      <td>Adventure|Fantasy|Action|Western|Thriller</td>\n",
       "      <td>Action|Adventure|Fantasy|Science Fiction</td>\n",
       "    </tr>\n",
       "    <tr>\n",
       "      <th>release_date</th>\n",
       "      <td>12/2/10</td>\n",
       "      <td>12/10/09</td>\n",
       "    </tr>\n",
       "    <tr>\n",
       "      <th>vote_count</th>\n",
       "      <td>74</td>\n",
       "      <td>8458</td>\n",
       "    </tr>\n",
       "    <tr>\n",
       "      <th>release_year</th>\n",
       "      <td>2010</td>\n",
       "      <td>2009</td>\n",
       "    </tr>\n",
       "    <tr>\n",
       "      <th>profit</th>\n",
       "      <td>-4.13912e+08</td>\n",
       "      <td>2.54451e+09</td>\n",
       "    </tr>\n",
       "  </tbody>\n",
       "</table>\n",
       "</div>"
      ],
      "text/plain": [
       "                                                     2244  \\\n",
       "id                                                  46528   \n",
       "imdb_id                                         tt1032751   \n",
       "popularity                                        0.25054   \n",
       "budget                                           4.25e+08   \n",
       "revenue                                       1.10876e+07   \n",
       "original_title                          The Warrior's Way   \n",
       "director                                       Sngmoo Lee   \n",
       "runtime                                               100   \n",
       "genres          Adventure|Fantasy|Action|Western|Thriller   \n",
       "release_date                                      12/2/10   \n",
       "vote_count                                             74   \n",
       "release_year                                         2010   \n",
       "profit                                       -4.13912e+08   \n",
       "\n",
       "                                                    1386  \n",
       "id                                                 19995  \n",
       "imdb_id                                        tt0499549  \n",
       "popularity                                       9.43277  \n",
       "budget                                          2.37e+08  \n",
       "revenue                                      2.78151e+09  \n",
       "original_title                                    Avatar  \n",
       "director                                   James Cameron  \n",
       "runtime                                              162  \n",
       "genres          Action|Adventure|Fantasy|Science Fiction  \n",
       "release_date                                    12/10/09  \n",
       "vote_count                                          8458  \n",
       "release_year                                        2009  \n",
       "profit                                       2.54451e+09  "
      ]
     },
     "execution_count": 84,
     "metadata": {},
     "output_type": "execute_result"
    }
   ],
   "source": [
    "#we can use the define function to calculate the least and most values of our data; function can be versatile and be used\n",
    "#to other variables also\n",
    "\n",
    "def low_high(column_name): #definining function\n",
    "    \n",
    "    #lets start with the least profit\n",
    "    #least_id will take the lowest value from row and record its id\n",
    "    least_id = df[column_name].idxmin()\n",
    "    #df.loc function will display values of the id; we can store it in variable\n",
    "    #and concat the rest\n",
    "    low_details = pd.DataFrame(df.loc[least_id])\n",
    "    \n",
    "    highest_id = df[column_name].idxmax() #same method as above for high details\n",
    "    high_details = pd.DataFrame(df.loc[highest_id])\n",
    "    \n",
    "    #combining the low and high values together, axis needs to be one\n",
    "    #as we are concating through columns rather than indexes\n",
    "    combined_data = pd.concat([low_details, high_details], axis = 1)\n",
    "    \n",
    "    return combined_data\n",
    "\n",
    "#lets test the function\n",
    "low_high('profit')"
   ]
  },
  {
   "cell_type": "markdown",
   "metadata": {},
   "source": [
    "### Data indicates that the least profitable movie was the \"The Warrior's Way\" that was directed by Sngmoo Lee in 2010. It did not make any profit and thus the negative value. The most profitable movie is the \"Avatar\", directed by James Cameron in 2009. It has a net profit of 2.5 billion USD dollars. "
   ]
  },
  {
   "cell_type": "markdown",
   "metadata": {},
   "source": [
    "---"
   ]
  },
  {
   "cell_type": "markdown",
   "metadata": {},
   "source": [
    "### Question 3. Have movies been getting popular with time? Plot the graph "
   ]
  },
  {
   "cell_type": "code",
   "execution_count": 85,
   "metadata": {
    "scrolled": true
   },
   "outputs": [
    {
     "data": {
      "text/plain": [
       "(release_year\n",
       " 1960    0.458932\n",
       " 1961    0.422827\n",
       " 1962    0.454783\n",
       " Name: popularity, dtype: float64, release_year\n",
       " 2013    0.637482\n",
       " 2014    0.895706\n",
       " 2015    1.045042\n",
       " Name: popularity, dtype: float64)"
      ]
     },
     "execution_count": 85,
     "metadata": {},
     "output_type": "execute_result"
    }
   ],
   "source": [
    "#Have movies been getting popular with time? Plot the graph\n",
    "pop_year = df.groupby('release_year').mean()['popularity']\n",
    "pop_year[:3],pop_year[-3:]"
   ]
  },
  {
   "cell_type": "code",
   "execution_count": 86,
   "metadata": {
    "scrolled": true
   },
   "outputs": [
    {
     "data": {
      "image/png": "[encoded data removed]",
      "text/plain": [
       "<Figure size 648x432 with 1 Axes>"
      ]
     },
     "metadata": {
      "needs_background": "light"
     },
     "output_type": "display_data"
    }
   ],
   "source": [
    "#plotting according to the new variable created above, the label states that budget is in American dollars\n",
    "plt.figure(figsize=(9, 6))\n",
    "plt.plot(pop_year, color = 'b', label = 'popularity')\n",
    "\n",
    "#used xticks here to create intervals of 30 years at a time\n",
    "plt.xticks(np.arange(min(df['release_year']), max(df['release_year'])+5, 5.0))\n",
    "\n",
    "#displaying labels appropriately\n",
    "plt.title('Popularity of Movies with time')\n",
    "plt.xlabel('Year')\n",
    "plt.ylabel('popularity')\n",
    "#set legend located to right\n",
    "plt.legend(loc='upper left');"
   ]
  },
  {
   "cell_type": "markdown",
   "metadata": {},
   "source": [
    "#### Lets also plot profit per year for reference"
   ]
  },
  {
   "cell_type": "code",
   "execution_count": 87,
   "metadata": {},
   "outputs": [
    {
     "data": {
      "image/png": "[encoded data removed]",
      "text/plain": [
       "<Figure size 648x432 with 1 Axes>"
      ]
     },
     "metadata": {
      "needs_background": "light"
     },
     "output_type": "display_data"
    }
   ],
   "source": [
    "profit_year = df.groupby('release_year').mean()['profit']\n",
    "#plotting according to the new variable created above, the label states that budget is in American dollars\n",
    "plt.figure(figsize=(9, 6))\n",
    "plt.plot(profit_year, color = 'g', label = 'Profit')\n",
    "\n",
    "#used xticks here to create intervals of 30 years at a time\n",
    "plt.xticks(np.arange(min(df['release_year']), max(df['release_year'])+8, 5.0))\n",
    "\n",
    "#displaying labels appropriately\n",
    "plt.title('Profit from movies over the years USD')\n",
    "plt.xlabel('Year')\n",
    "plt.ylabel('USD to power of 7')\n",
    "#set legend located to right\n",
    "plt.legend(loc='right');"
   ]
  },
  {
   "cell_type": "markdown",
   "metadata": {},
   "source": [
    "### It appears that the popularity of the movies have been increasing slowly with time, but after 2010 period there was a drastic surgency in popularity. When we also plot the graph for profit over the years, we can see that the profits of movie also had a surgency after the 2010 period. Which indicates that the popularity of movies has a direct correlation with the profit of the movies. "
   ]
  },
  {
   "cell_type": "markdown",
   "metadata": {},
   "source": [
    "---"
   ]
  },
  {
   "cell_type": "markdown",
   "metadata": {},
   "source": [
    "### Question 4. What are the top 10 budgeted movies? Plot the graph"
   ]
  },
  {
   "cell_type": "code",
   "execution_count": 88,
   "metadata": {},
   "outputs": [],
   "source": [
    "#Budget of movies are arranged from highest to lowest\n",
    "top10 = pd.DataFrame(df['budget'].sort_values(ascending = False)) \n",
    "#make the new dataframe equal to existing dataframe so the titles match the budgets of movies\n",
    "top10['original_title'] = df['original_title']"
   ]
  },
  {
   "cell_type": "code",
   "execution_count": 89,
   "metadata": {},
   "outputs": [],
   "source": [
    "#lets define X and Y value for plotting\n",
    "title = top10['original_title'][:10] #we are extracting the first 10 movie titles\n",
    "top = top10['budget'][:10] #we are extracting top 10 budgets for films\n"
   ]
  },
  {
   "cell_type": "code",
   "execution_count": 90,
   "metadata": {},
   "outputs": [
    {
     "data": {
      "text/html": [
       "<div>\n",
       "<style scoped>\n",
       "    .dataframe tbody tr th:only-of-type {\n",
       "        vertical-align: middle;\n",
       "    }\n",
       "\n",
       "    .dataframe tbody tr th {\n",
       "        vertical-align: top;\n",
       "    }\n",
       "\n",
       "    .dataframe thead th {\n",
       "        text-align: right;\n",
       "    }\n",
       "</style>\n",
       "<table border=\"1\" class=\"dataframe\">\n",
       "  <thead>\n",
       "    <tr style=\"text-align: right;\">\n",
       "      <th></th>\n",
       "      <th>original_title</th>\n",
       "      <th>budget</th>\n",
       "    </tr>\n",
       "  </thead>\n",
       "  <tbody>\n",
       "    <tr>\n",
       "      <th>2244</th>\n",
       "      <td>The Warrior's Way</td>\n",
       "      <td>425000000.0</td>\n",
       "    </tr>\n",
       "    <tr>\n",
       "      <th>3375</th>\n",
       "      <td>Pirates of the Caribbean: On Stranger Tides</td>\n",
       "      <td>380000000.0</td>\n",
       "    </tr>\n",
       "    <tr>\n",
       "      <th>7387</th>\n",
       "      <td>Pirates of the Caribbean: At World's End</td>\n",
       "      <td>300000000.0</td>\n",
       "    </tr>\n",
       "    <tr>\n",
       "      <th>14</th>\n",
       "      <td>Avengers: Age of Ultron</td>\n",
       "      <td>280000000.0</td>\n",
       "    </tr>\n",
       "    <tr>\n",
       "      <th>6570</th>\n",
       "      <td>Superman Returns</td>\n",
       "      <td>270000000.0</td>\n",
       "    </tr>\n",
       "    <tr>\n",
       "      <th>4411</th>\n",
       "      <td>John Carter</td>\n",
       "      <td>260000000.0</td>\n",
       "    </tr>\n",
       "    <tr>\n",
       "      <th>1929</th>\n",
       "      <td>Tangled</td>\n",
       "      <td>260000000.0</td>\n",
       "    </tr>\n",
       "    <tr>\n",
       "      <th>7394</th>\n",
       "      <td>Spider-Man 3</td>\n",
       "      <td>258000000.0</td>\n",
       "    </tr>\n",
       "    <tr>\n",
       "      <th>5508</th>\n",
       "      <td>The Lone Ranger</td>\n",
       "      <td>255000000.0</td>\n",
       "    </tr>\n",
       "    <tr>\n",
       "      <th>643</th>\n",
       "      <td>X-Men: Days of Future Past</td>\n",
       "      <td>250000000.0</td>\n",
       "    </tr>\n",
       "  </tbody>\n",
       "</table>\n",
       "</div>"
      ],
      "text/plain": [
       "                                   original_title       budget\n",
       "2244                            The Warrior's Way  425000000.0\n",
       "3375  Pirates of the Caribbean: On Stranger Tides  380000000.0\n",
       "7387     Pirates of the Caribbean: At World's End  300000000.0\n",
       "14                        Avengers: Age of Ultron  280000000.0\n",
       "6570                             Superman Returns  270000000.0\n",
       "4411                                  John Carter  260000000.0\n",
       "1929                                      Tangled  260000000.0\n",
       "7394                                 Spider-Man 3  258000000.0\n",
       "5508                              The Lone Ranger  255000000.0\n",
       "643                    X-Men: Days of Future Past  250000000.0"
      ]
     },
     "execution_count": 90,
     "metadata": {},
     "output_type": "execute_result"
    }
   ],
   "source": [
    "combined = pd.concat([title, top], axis = 1) #displays the top 10 budgeted movies\n",
    "combined"
   ]
  },
  {
   "cell_type": "code",
   "execution_count": 91,
   "metadata": {},
   "outputs": [
    {
     "data": {
      "image/png": "[encoded data removed]",
      "text/plain": [
       "<Figure size 1440x720 with 1 Axes>"
      ]
     },
     "metadata": {},
     "output_type": "display_data"
    }
   ],
   "source": [
    "#lets plot out top 10 budgeted movies using matplotlib\n",
    "sns.set_style(\"dark\") #sets background darker\n",
    "plt.figure(figsize=(20, 10)) #defines plot size\n",
    "plt.barh(title, top) #plotting x and y axis; barh = results in horizontal bar graphs\n",
    "plt.rcParams.update({'font.size': 12}) #updating font for easier display\n",
    "\n",
    "#title and axis lables\n",
    "plt.title(\"Top 10 Budgeted Movies\",fontsize=20)\n",
    "plt.xlabel('Movie Budget in Millions USD',fontsize=20)\n",
    "plt.ylabel(\"Movie Titles\",fontsize= 20)\n",
    "plt.show()\n"
   ]
  },
  {
   "cell_type": "markdown",
   "metadata": {},
   "source": [
    "### According to our data and the plot above, the top budgeted movie of all time in our database is \"The Warrior's Way\", followed by \"Pirates of the Caribbean: On Stranger Tides\". The budget is displayed in millions USD. "
   ]
  },
  {
   "cell_type": "markdown",
   "metadata": {},
   "source": [
    "---"
   ]
  },
  {
   "cell_type": "markdown",
   "metadata": {},
   "source": [
    "### Question 5. What are the most succesful genres in TMDB. Plot the graph."
   ]
  },
  {
   "cell_type": "code",
   "execution_count": 92,
   "metadata": {},
   "outputs": [
    {
     "data": {
      "text/plain": [
       "826"
      ]
     },
     "execution_count": 92,
     "metadata": {},
     "output_type": "execute_result"
    }
   ],
   "source": [
    "#Successfully movies we will judge by the profit it returned\n",
    "#lets separate the profitable movies from the ones that are not. \n",
    "#we will extract movies that made more than or equal to 100 million dollars in profit\n",
    "profit_data = df[df['profit'] >= 100000000]\n",
    "profit_data.shape[0] #we have 826 movies that are successful"
   ]
  },
  {
   "cell_type": "code",
   "execution_count": 93,
   "metadata": {},
   "outputs": [],
   "source": [
    "#lets use the def function in order to separate our genres from '|' first and then use our prf\n",
    "\n",
    "def data_sep(column):\n",
    "    data_sep = profit_data[column].str.cat(sep = '|')\n",
    "    data_sep = pd.Series(data_sep.split('|')) #giving pandas series and storing the values separately\n",
    "    \n",
    "    #lets arrange it in descending order\n",
    "    count = data_sep.value_counts(ascending = False)\n",
    "    \n",
    "    return count"
   ]
  },
  {
   "cell_type": "code",
   "execution_count": 94,
   "metadata": {
    "scrolled": true
   },
   "outputs": [
    {
     "data": {
      "text/plain": [
       "Action             317\n",
       "Comedy             299\n",
       "Adventure          278\n",
       "Drama              264\n",
       "Thriller           233\n",
       "Family             166\n",
       "Science Fiction    148\n",
       "Fantasy            144\n",
       "Romance            132\n",
       "Crime              112\n",
       "Animation          102\n",
       "Mystery             66\n",
       "Horror              55\n",
       "Music               31\n",
       "War                 29\n",
       "History             14\n",
       "Western             10\n",
       "Documentary          1\n",
       "dtype: int64"
      ]
     },
     "execution_count": 94,
     "metadata": {},
     "output_type": "execute_result"
    }
   ],
   "source": [
    "genre_count = data_sep('genres')\n",
    "genre_count"
   ]
  },
  {
   "cell_type": "code",
   "execution_count": 95,
   "metadata": {
    "scrolled": false
   },
   "outputs": [
    {
     "data": {
      "image/png": "[encoded data removed]",
      "text/plain": [
       "<Figure size 720x864 with 1 Axes>"
      ]
     },
     "metadata": {},
     "output_type": "display_data"
    }
   ],
   "source": [
    "#lets plot the points in descending order top to bottom as we have data in same format.\n",
    "genre_count.sort_values(ascending = True, inplace = True)\n",
    "\n",
    "plotG = genre_count.plot.barh(fontsize = 13)\n",
    "\n",
    "#title and axis labelling\n",
    "plotG.set(title = 'Count of Movie Genres for movies that profitted more than 100 million USD')\n",
    "plotG.set_xlabel('Count of Movies', fontsize = '13')\n",
    "plotG.set_ylabel('Movie Genres', fontsize = '13')\n",
    "\n",
    "#adjusting plot size\n",
    "plotG.figure.set_size_inches(10, 12)\n",
    "\n",
    "plt.show()"
   ]
  },
  {
   "cell_type": "markdown",
   "metadata": {},
   "source": [
    "### From the given diagram and the provided list, it is observed that Action movies are the most utilized genres for profitable movies followed by Comedy. Note that some movies have overlapping movie genres, but the action movies are leading by 18 movies from the second genre"
   ]
  },
  {
   "cell_type": "markdown",
   "metadata": {},
   "source": [
    "### Question 6. Identify the top 5 directors according to the popularity of the movies and how many movies have they made?"
   ]
  },
  {
   "cell_type": "code",
   "execution_count": 96,
   "metadata": {},
   "outputs": [],
   "source": [
    "#we use groupby function once again and group directors and sum the popularity based per movie they directed\n",
    "popdir = df.groupby(['director']).sum()['popularity']\n"
   ]
  },
  {
   "cell_type": "code",
   "execution_count": 97,
   "metadata": {},
   "outputs": [],
   "source": [
    "#we use groupby function to group directors and count movies they made\n",
    "movie_count = df.groupby(['director']).count()['original_title']"
   ]
  },
  {
   "cell_type": "code",
   "execution_count": 98,
   "metadata": {},
   "outputs": [
    {
     "data": {
      "text/html": [
       "<div>\n",
       "<style scoped>\n",
       "    .dataframe tbody tr th:only-of-type {\n",
       "        vertical-align: middle;\n",
       "    }\n",
       "\n",
       "    .dataframe tbody tr th {\n",
       "        vertical-align: top;\n",
       "    }\n",
       "\n",
       "    .dataframe thead th {\n",
       "        text-align: right;\n",
       "    }\n",
       "</style>\n",
       "<table border=\"1\" class=\"dataframe\">\n",
       "  <thead>\n",
       "    <tr style=\"text-align: right;\">\n",
       "      <th></th>\n",
       "      <th>popularity</th>\n",
       "      <th>original_title</th>\n",
       "    </tr>\n",
       "    <tr>\n",
       "      <th>director</th>\n",
       "      <th></th>\n",
       "      <th></th>\n",
       "    </tr>\n",
       "  </thead>\n",
       "  <tbody>\n",
       "    <tr>\n",
       "      <th>Christopher Nolan</th>\n",
       "      <td>61.955206</td>\n",
       "      <td>10</td>\n",
       "    </tr>\n",
       "    <tr>\n",
       "      <th>Steven Spielberg</th>\n",
       "      <td>54.378995</td>\n",
       "      <td>29</td>\n",
       "    </tr>\n",
       "    <tr>\n",
       "      <th>Peter Jackson</th>\n",
       "      <td>49.067904</td>\n",
       "      <td>13</td>\n",
       "    </tr>\n",
       "    <tr>\n",
       "      <th>Ridley Scott</th>\n",
       "      <td>46.213770</td>\n",
       "      <td>23</td>\n",
       "    </tr>\n",
       "    <tr>\n",
       "      <th>Quentin Tarantino</th>\n",
       "      <td>46.059995</td>\n",
       "      <td>11</td>\n",
       "    </tr>\n",
       "  </tbody>\n",
       "</table>\n",
       "</div>"
      ],
      "text/plain": [
       "                   popularity  original_title\n",
       "director                                     \n",
       "Christopher Nolan   61.955206              10\n",
       "Steven Spielberg    54.378995              29\n",
       "Peter Jackson       49.067904              13\n",
       "Ridley Scott        46.213770              23\n",
       "Quentin Tarantino   46.059995              11"
      ]
     },
     "execution_count": 98,
     "metadata": {},
     "output_type": "execute_result"
    }
   ],
   "source": [
    "#using concat function to display the two variables and sorting by popularity as main\n",
    "top5 = pd.concat([popdir,movie_count],axis=1).sort_values(by=['popularity'],ascending=False)[:5]\n",
    "top5"
   ]
  },
  {
   "cell_type": "code",
   "execution_count": 99,
   "metadata": {
    "scrolled": true
   },
   "outputs": [
    {
     "data": {
      "image/png": "[encoded data removed]",
      "text/plain": [
       "<Figure size 432x288 with 1 Axes>"
      ]
     },
     "metadata": {},
     "output_type": "display_data"
    }
   ],
   "source": [
    "# Lets use a pie chart to graph our statistics from above, we we will divide the pie based on popularity rather than \n",
    "# count of movie title.\n",
    "\n",
    "new = np.array(popdir.sort_values(ascending=False)) #creating an array for the pie graph to utilize\n",
    "sizes = [24,21,19,17.92,17.90] #sizes are equivalent to the percentages\n",
    "labels = ['Christopher Nolan', 'Steven Spielberg','Peter Jackson','Ridley Scott','Quentin Tarantino'] #top 5 directors\n",
    "plt.pie(new[:5], labels=labels,autopct='%1.1f%%', radius=1.5)\n",
    "plt.show()\n",
    "\n"
   ]
  },
  {
   "cell_type": "markdown",
   "metadata": {},
   "source": [
    "### The top 5 directors are sorted by popularity based and the movie count has been listed beside column also. Christopher Nolan holds the most popular movie from the TMDB and he has only directed 10 movies. Following Nolan is Steven Spielberg with a movie count of 29. "
   ]
  },
  {
   "cell_type": "markdown",
   "metadata": {},
   "source": [
    "<a id='conclusions'></a>\n",
    "## Conclusions\n",
    "TDMB dataset provided great insights about movie data, from the budget, to cast, directors and many more useful information. From the research questions from this project, the concluding points noted were:\n",
    "- Movie budgets have been drastically increasing with time along with the net profits being returned; we devised profit from the simple formula of revenue subtracting the budget\n",
    "- The most profitable movie in this database was the Avatar with a whopping 2.5 billion dollars and the lowest profitable movie was \"The Warrior's Way\". Although Avatar is accurate, with further research it was shown that the statistics for the latter movie was actually incorrect.\n",
    "- Data noted that movies have been getting more popular since 2010 and the returning profits are highly correlated\n",
    "- we noted that Action movies were the most profitable genre in our database followed by Comedy and Adventure. This information can be useful for producers who maybe looking to invest in a movie.\n",
    "- Through analysis, the top 5 directors were found. With Christopher Nolan directing 10 movies with the highest popularity rate of 61.95, followed by Steven Spielberg with 29 movies and popularity rate of 54.3\n",
    "- With given analysis and data, one can note all the characteristics needed to have a profitable movie\n",
    "\n",
    "This dataset however had problems and some of the information were not accurate. For example, the highest budgeted movie was shown to be \"The Warrior's Way\" with a budget of 425 million dollars, but in reality that movie budge was actually only 40 million. There are multiple errors in the dataset and limitations, dropping certain rows from cleaning might also have affected the results. \n"
   ]
  },
  {
   "cell_type": "code",
   "execution_count": null,
   "metadata": {},
   "outputs": [],
   "source": [
    "from subprocess import call\n",
    "call(['python', '-m', 'nbconvert', 'Investigate_a_Dataset.ipynb'])"
   ]
  },
  {
   "cell_type": "markdown",
   "metadata": {},
   "source": [
    "### Credits:\n",
    "\"Python for Data Analysis\" By Wes Mckinney"
   ]
  }
 ],
 "metadata": {
  "kernelspec": {
   "display_name": "Python 3",
   "language": "python",
   "name": "python3"
  },
  "language_info": {
   "codemirror_mode": {
    "name": "ipython",
    "version": 3
   },
   "file_extension": ".py",
   "mimetype": "text/x-python",
   "name": "python",
   "nbconvert_exporter": "python",
   "pygments_lexer": "ipython3",
   "version": "3.7.1"
  }
 },
 "nbformat": 4,
 "nbformat_minor": 2
}
